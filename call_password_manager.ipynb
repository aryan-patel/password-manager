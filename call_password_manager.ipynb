{
 "cells": [
  {
   "cell_type": "code",
   "execution_count": 8,
   "id": "4e399fd2-5266-45bd-9254-9982144b2ab2",
   "metadata": {},
   "outputs": [
    {
     "name": "stdout",
     "output_type": "stream",
     "text": [
      "🔐 Testing KeyManager\n",
      "Derived Key: b'ZSx9xofZjJiJME7S5AjHS2EehqQMqlHEtD8d1ZE8XNA='\n",
      "Is same password: True\n",
      "Updated Key: b'JTwueGwkFNyuyNvxHfUVtQdTcUVLk6VofSTZbdvzuTk='\n"
     ]
    }
   ],
   "source": [
    "from key_manager import KeyManager\n",
    "print(\"🔐 Testing KeyManager\")\n",
    "\n",
    "km = KeyManager(\"mysecret\")\n",
    "print(\"Derived Key:\", km.get_key())\n",
    "print(\"Is same password:\", km.is_same_password(\"mysecret\"))\n",
    "km.update_password(\"newpass\")\n",
    "print(\"Updated Key:\", km.get_key())"
   ]
  },
  {
   "cell_type": "code",
   "execution_count": null,
   "id": "9e035a88-7af9-473d-81ec-0abbeed71131",
   "metadata": {},
   "outputs": [],
   "source": [
    "from encryptor import Encryptor\n"
   ]
  },
  {
   "cell_type": "code",
   "execution_count": null,
   "id": "eeb761ab-c838-4039-a8d6-46730d72ecf6",
   "metadata": {},
   "outputs": [],
   "source": [
    "from vault_storage import VaultStorage\n"
   ]
  },
  {
   "cell_type": "code",
   "execution_count": null,
   "id": "a8ce0906-3055-42a2-bfc2-c6f028d62bda",
   "metadata": {},
   "outputs": [],
   "source": [
    "from vault_entry import VaultEntry\n"
   ]
  },
  {
   "cell_type": "code",
   "execution_count": null,
   "id": "ba09fe19-72f3-4888-9e1b-2a4eef65dcf1",
   "metadata": {},
   "outputs": [],
   "source": [
    "from vault import Vault\n"
   ]
  },
  {
   "cell_type": "code",
   "execution_count": null,
   "id": "c3817c0b-7c81-4bff-b25c-21ddf05100a3",
   "metadata": {},
   "outputs": [],
   "source": [
    "from password_manager import PasswordManager\n"
   ]
  }
 ],
 "metadata": {
  "kernelspec": {
   "display_name": "Python [conda env:base] *",
   "language": "python",
   "name": "conda-base-py"
  },
  "language_info": {
   "codemirror_mode": {
    "name": "ipython",
    "version": 3
   },
   "file_extension": ".py",
   "mimetype": "text/x-python",
   "name": "python",
   "nbconvert_exporter": "python",
   "pygments_lexer": "ipython3",
   "version": "3.12.7"
  }
 },
 "nbformat": 4,
 "nbformat_minor": 5
}
